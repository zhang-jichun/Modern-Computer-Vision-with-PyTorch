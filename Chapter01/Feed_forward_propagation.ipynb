{
  "nbformat": 4,
  "nbformat_minor": 0,
  "metadata": {
    "colab": {
      "name": "Feed_forward_propagation.ipynb",
      "provenance": [],
      "include_colab_link": true
    },
    "kernelspec": {
      "display_name": "Python 3",
      "language": "python",
      "name": "python3"
    },
    "language_info": {
      "codemirror_mode": {
        "name": "ipython",
        "version": 3
      },
      "file_extension": ".py",
      "mimetype": "text/x-python",
      "name": "python",
      "nbconvert_exporter": "python",
      "pygments_lexer": "ipython3",
      "version": "3.7.6"
    }
  },
  "cells": [
    {
      "cell_type": "markdown",
      "metadata": {
        "id": "view-in-github",
        "colab_type": "text"
      },
      "source": [
        "<a href=\"https://colab.research.google.com/github/zhang-jichun/Modern-Computer-Vision-with-PyTorch/blob/master/Chapter01/Feed_forward_propagation.ipynb\" target=\"_parent\"><img src=\"https://colab.research.google.com/assets/colab-badge.svg\" alt=\"Open In Colab\"/></a>"
      ]
    },
    {
      "cell_type": "markdown",
      "metadata": {
        "id": "Uk4Fezbb9SZc"
      },
      "source": [
        "### Forward Propagation"
      ]
    },
    {
      "cell_type": "code",
      "metadata": {
        "ExecuteTime": {
          "end_time": "2020-09-24T12:46:03.594770Z",
          "start_time": "2020-09-24T12:46:03.589643Z"
        },
        "id": "VytiqjTQgwf4"
      },
      "source": [
        "import numpy as np\n",
        "def feed_forward(inputs, outputs, weights): # 输入为输入参数，输出的真实值，初始化后的权重\n",
        "    pre_hidden = np.dot(inputs,weights[0])+ weights[1] # np.dot 可以执行矩阵乘法、向量乘法、向量乘矩阵、矩阵乘向量 最后加上偏置\n",
        "    hidden = 1/(1+np.exp(-pre_hidden)) # np.exp指数函数 Sigmoid激活\n",
        "    pred_out = np.dot(hidden, weights[2]) + weights[3] # 激活之后矩阵乘法加偏置形成输出\n",
        "    mean_squared_error = np.mean(np.square(pred_out - outputs)) # np.square把向量中的每个元素求平方 np.mean对于向量中的全部元素求均值\n",
        "    return mean_squared_error"
      ],
      "execution_count": null,
      "outputs": []
    },
    {
      "cell_type": "code",
      "source": [
        "import numpy as np\n",
        "def feed_forward(inputs, outputs, weights):\n",
        "  pre_hidden = np.dot(inputs, weights[0]) + weights[1] # 输入矩阵乘以权重 加上偏置\n",
        "  hidden = 1/(1 + np.exp(-pre_hidden)) # sigmoid非线性\n",
        "  pred_out = np.dot(hidden, weights[2]) + weights[3] # 乘以权重 加上偏置\n",
        "  MSE = np.mean(np.square(pred_out - outputs)) # MSE 方差\n",
        "  return MSE"
      ],
      "metadata": {
        "id": "wBilQoH6hzRd"
      },
      "execution_count": null,
      "outputs": []
    }
  ]
}